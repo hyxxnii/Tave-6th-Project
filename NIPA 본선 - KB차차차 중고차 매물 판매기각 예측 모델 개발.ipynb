{
  "nbformat": 4,
  "nbformat_minor": 0,
  "metadata": {
    "colab": {
      "name": "NIPA 본선 - KB차차차 중고차 매물 판매기각 예측 모델 개발 .ipynb",
      "provenance": [],
      "collapsed_sections": [],
      "authorship_tag": "ABX9TyPYKv4/VFu2N+zSG9Brg2OT",
      "include_colab_link": true
    },
    "kernelspec": {
      "name": "python3",
      "display_name": "Python 3"
    }
  },
  "cells": [
    {
      "cell_type": "markdown",
      "metadata": {
        "id": "view-in-github",
        "colab_type": "text"
      },
      "source": [
        "<a href=\"https://colab.research.google.com/github/hyxxnii/Tave-6th-Project/blob/master/NIPA%20%EB%B3%B8%EC%84%A0%20-%20KB%EC%B0%A8%EC%B0%A8%EC%B0%A8%20%EC%A4%91%EA%B3%A0%EC%B0%A8%20%EB%A7%A4%EB%AC%BC%20%ED%8C%90%EB%A7%A4%EA%B8%B0%EA%B0%81%20%EC%98%88%EC%B8%A1%20%EB%AA%A8%EB%8D%B8%20%EA%B0%9C%EB%B0%9C.ipynb\" target=\"_parent\"><img src=\"https://colab.research.google.com/assets/colab-badge.svg\" alt=\"Open In Colab\"/></a>"
      ]
    },
    {
      "cell_type": "code",
      "metadata": {
        "id": "bzwwC1Y7MhYq"
      },
      "source": [
        "import warnings\n",
        "warnings.filterwarnings('ignore')\n",
        "import pandas as pd\n",
        "import numpy as np\n",
        "import seaborn as sns\n",
        "import matplotlib.pyplot as plt\n",
        "%matplotlib inline\n",
        "\n",
        "train_path = '../data/.train/.task147/train.csv'\n",
        "test_path = '../data/.train/.task147/test.csv'\n",
        "submission_path = '../data/.sample_submission/.task147/sample_submission.csv'\n",
        "car_df_train = pd.read_csv(train_path)\n",
        "car_df_test = pd.read_csv(test_path)\n",
        "car_df_submission= pd.read_csv(submission_path)\n",
        "\n",
        "car_df = car_df_train.copy()\n",
        "car_df.head()"
      ],
      "execution_count": null,
      "outputs": []
    },
    {
      "cell_type": "code",
      "metadata": {
        "id": "h0fAdialMtCA"
      },
      "source": [
        "car_df.info()"
      ],
      "execution_count": null,
      "outputs": []
    },
    {
      "cell_type": "code",
      "metadata": {
        "id": "gRHkhsKsMuDi"
      },
      "source": [
        "# 타깃값 분포 확인\n",
        "plt.title('Originial Ad Periods Histogram')\n",
        "sns.distplot(car_df['ad_periods'])"
      ],
      "execution_count": null,
      "outputs": []
    },
    {
      "cell_type": "code",
      "metadata": {
        "id": "msgLPIPmMvac"
      },
      "source": [
        "# 정규분포로 변환하기 위해 로그 변환적용\n",
        "plt.title('Log Transformed Ad Periods Histogram')\n",
        "log_Periods = np.log1p(car_df['ad_periods'])\n",
        "sns.distplot(log_Periods)\n",
        "\n",
        "# 예측시에 다시 expm1()으로 환원"
      ],
      "execution_count": null,
      "outputs": []
    },
    {
      "cell_type": "code",
      "metadata": {
        "id": "XIb970okMwDk"
      },
      "source": [
        "# SalePrice 로그 변환\n",
        "originial_Periods = car_df['ad_periods']\n",
        "car_df['ad_periods'] = np.log1p(car_df['ad_periods'])"
      ],
      "execution_count": null,
      "outputs": []
    },
    {
      "cell_type": "markdown",
      "metadata": {
        "id": "xCAXJBgSMxkK"
      },
      "source": [
        "# Base Model\n",
        "### Linear Regression, Ridge, Lasso"
      ]
    },
    {
      "cell_type": "code",
      "metadata": {
        "id": "NBNplUWuM19f"
      },
      "source": [
        "def get_rmse(model):\n",
        "    pred = model.predict(X_test)\n",
        "    mse = mean_squared_error(y_test_exp, pred)\n",
        "    rmse = np.sqrt(mse)\n",
        "    print(model.__class__.__name__, 'RMSE: ', np.round(rmse,3))\n",
        "    return rmse\n",
        "\n",
        "def get_rmses(models):\n",
        "    rmses = []\n",
        "    for model in models:\n",
        "        rmse = get_rmse(model)\n",
        "        rmses.append(rmse)\n",
        "    return np.round(rmses, 3)"
      ],
      "execution_count": null,
      "outputs": []
    },
    {
      "cell_type": "code",
      "metadata": {
        "id": "lR0-amMRM2rs"
      },
      "source": [
        "from sklearn.linear_model import LinearRegression, Ridge, Lasso\n",
        "from sklearn.model_selection import train_test_split\n",
        "from sklearn.metrics import mean_squared_error\n",
        "\n",
        "y_target = car_df['ad_periods']\n",
        "X_features = car_df.drop('ad_periods', axis=1, inplace=False)\n",
        "X_train, X_test, y_train, y_test = train_test_split(X_features, y_target, test_size=0.2, random_state=156)\n",
        "\n",
        "# LinearRegression, Ridge, Lasso 학습/예측/평가\n",
        "lr_reg = LinearRegression()\n",
        "lr_reg.fit(X_train, y_train)\n",
        "ridge_reg = Ridge()\n",
        "ridge_reg.fit(X_train, y_train)\n",
        "lasso_reg = Lasso()\n",
        "lasso_reg.fit(X_train, y_train)\n",
        "\n",
        "# target 값이 로그 변환된 값이므로 expm1을 이용해 다시 원래 스케일로 변환\n",
        "pred_lr = np.expm1(lr_reg.predict(X_test))\n",
        "pred_ridge = np.expm1(ridge_reg.predict(X_test))\n",
        "pred_lasso = np.expm1(lasso_reg.predict(X_test))\n",
        "\n",
        "y_test_exp = np.expm1(y_test)\n",
        "\n",
        "models = [lr_reg, ridge_reg, lasso_reg]\n",
        "get_rmses(models)"
      ],
      "execution_count": null,
      "outputs": []
    },
    {
      "cell_type": "code",
      "metadata": {
        "id": "dVZhhBiBM3fn"
      },
      "source": [
        "def get_top_bottom_coef(model):\n",
        "    # coef_ 속성을 기반으로 Series 객체를 생성. index는 컬럼명. \n",
        "    coef = pd.Series(model.coef_, index=X_features.columns)\n",
        "    \n",
        "    # + 상위 10개 , - 하위 10개 coefficient 추출하여 반환.\n",
        "    coef_high = coef.sort_values(ascending=False).head(10)\n",
        "    coef_low = coef.sort_values(ascending=False).tail(10)\n",
        "    return coef_high, coef_low"
      ],
      "execution_count": null,
      "outputs": []
    },
    {
      "cell_type": "code",
      "metadata": {
        "id": "7m9Lo6-TM4mt"
      },
      "source": [
        "def visualize_coefficient(models):\n",
        "    # 3개 회귀 모델의 시각화를 위해 3개 칼럼을 가지는 subplot 생성\n",
        "    fig, axs = plt.subplots(figsize=(24,10), nrows=1, ncols=3)\n",
        "    fig.tight_layout()\n",
        "    \n",
        "    # 입력 인자로 받은 list 객체인 models를 차례롤 model을 추출해 회귀 계수 시각화\n",
        "    for i_num, model in enumerate(models):\n",
        "        # 상위 10개, 하위 10개 회귀 계수를 구하고, 이를 concat으로 결합\n",
        "        coef_high, coef_low = get_top_bottom_coef(model)\n",
        "        coef_concat = pd.concat([coef_high, coef_low])\n",
        "        \n",
        "        # ax subplot에 barchar로 표현\n",
        "        # 한 화면에 표현하기 위해 tick label 위치와 font 크기 조정\n",
        "        axs[i_num].set_title(model.__class__.__name__+' Coefficients', size=25)\n",
        "        axs[i_num].tick_params(axis='y', direction='in', pad=-120)\n",
        "        for label in (axs[i_num].get_xticklabels() + axs[i_num].get_yticklabels()):\n",
        "            label.set_fontsize(22)\n",
        "        sns.barplot(x=coef_concat.values, y=coef_concat.index, ax=axs[i_num])\n",
        "        \n",
        "models = [lr_reg, ridge_reg, lasso_reg]\n",
        "visualize_coefficient(models)"
      ],
      "execution_count": null,
      "outputs": []
    },
    {
      "cell_type": "code",
      "metadata": {
        "id": "GWi7hWTqM6Qd"
      },
      "source": [
        "from sklearn.model_selection import GridSearchCV\n",
        "\n",
        "def print_best_params(model, params):\n",
        "    grid_model = GridSearchCV(model, param_grid=params,\n",
        "                             scoring='neg_mean_squared_error', cv=5)\n",
        "    grid_model.fit(X_features, y_target)\n",
        "    rmse = np.sqrt(-1*grid_model.best_score_)\n",
        "    print('\\n{0} 5 CV 시 최적 평균 RMSE 값: {1}, 최적 alpha: {2}'.format(model.__class__.__name__,\n",
        "    np.round(rmse,4), grid_model.best_params_))\n",
        "\n",
        "ridge_params = {'alpha':[0.05, 0.1, 1, 5, 8, 10, 12, 15, 20]}\n",
        "lasso_params = {'alpha':[0.001, 0.005, 0.008, 0.05, 0.03, 0.1, 0.5, 1, 5, 10]}\n",
        "print_best_params(ridge_reg, ridge_params)\n",
        "print_best_params(lasso_reg, lasso_params)"
      ],
      "execution_count": null,
      "outputs": []
    },
    {
      "cell_type": "code",
      "metadata": {
        "id": "YmNQnuDzM7I0"
      },
      "source": [
        "lr_reg = LinearRegression()\n",
        "lr_reg.fit(X_train, y_train)\n",
        "ridge_reg = Ridge(alpha=20)\n",
        "ridge_reg.fit(X_train, y_train)\n",
        "lasso_reg = Lasso(alpha=0.001)\n",
        "lasso_reg.fit(X_train, y_train)\n",
        "\n",
        "# 모든 모델의 RMSE 출력\n",
        "models = [lr_reg, ridge_reg, lasso_reg]\n",
        "get_rmses(models)\n",
        "\n",
        "# 모든 모델의 회귀 계수 시각화\n",
        "models = [lr_reg, ridge_reg, lasso_reg]\n",
        "visualize_coefficient(models)"
      ],
      "execution_count": null,
      "outputs": []
    },
    {
      "cell_type": "markdown",
      "metadata": {
        "id": "BE6lX-4zM8uY"
      },
      "source": [
        "# EDA"
      ]
    },
    {
      "cell_type": "code",
      "metadata": {
        "id": "E7nYrx0bM9Hd"
      },
      "source": [
        "onehot_list = car_df.filter(regex='^dum', axis=1).columns\n",
        "onehot_list, len(onehot_list)"
      ],
      "execution_count": null,
      "outputs": []
    },
    {
      "cell_type": "code",
      "metadata": {
        "id": "qGn0WJx9M98a"
      },
      "source": [
        "# 피처 데이터 세트의 데이터 분포도 확인\n",
        "from scipy.stats import skew\n",
        "\n",
        "# one-hot encoding된 카테고리 숫자형 피처는 제외\n",
        "features = X_features.drop(onehot_list, axis=1, inplace=False)\n",
        "skew_features = features.apply(lambda x:skew(x))\n",
        "\n",
        "# skew(왜곡) 정도가 1 이상인 칼럼만 추출\n",
        "skew_features_top = skew_features[skew_features > 1]\n",
        "print(skew_features_top.sort_values(ascending=False))"
      ],
      "execution_count": null,
      "outputs": []
    },
    {
      "cell_type": "code",
      "metadata": {
        "id": "rJux9F8cM_f1"
      },
      "source": [
        "# 추출된 왜곡 정도가 높은 피처를 로그 변환\n",
        "car_df[skew_features_top.index] = np.log1p(car_df[skew_features_top.index])"
      ],
      "execution_count": null,
      "outputs": []
    },
    {
      "cell_type": "code",
      "metadata": {
        "id": "SxbDUH-vNATd"
      },
      "source": [
        "# car_df의 피처를 일부 로그 변환했으므로 다시 피처/타깃 데이터 생성\n",
        "\n",
        "y_target = car_df['ad_periods']\n",
        "X_features = car_df.drop('ad_periods', axis=1, inplace=False)\n",
        "X_train, X_test, y_train, y_test = train_test_split(X_features, y_target, test_size=0.2,\n",
        "                                                   random_state=156)\n",
        "\n",
        "# 다시 최적화 하이퍼 파라미터와 RMSE 출력\n",
        "ridge_params = {'alpha':[0.05, 0.1, 1, 5, 8, 10, 12, 15, 20]}\n",
        "lasso_params = {'alpha':[0.001, 0.005, 0.008, 0.05, 0.03, 0.1, 0.5, 1, 5, 10]}\n",
        "print_best_params(ridge_reg, ridge_params)\n",
        "print_best_params(lasso_reg, lasso_params)"
      ],
      "execution_count": null,
      "outputs": []
    },
    {
      "cell_type": "code",
      "metadata": {
        "id": "JkpijpjJNBKa"
      },
      "source": [
        "lr_reg = LinearRegression()\n",
        "lr_reg.fit(X_train, y_train)\n",
        "ridge_reg = Ridge(alpha=15)\n",
        "ridge_reg.fit(X_train, y_train)\n",
        "lasso_reg = Lasso(alpha=0.001)\n",
        "lasso_reg.fit(X_train, y_train)\n",
        "\n",
        "# 모든 모델의 RMSE 출력\n",
        "models = [lr_reg, ridge_reg, lasso_reg]\n",
        "get_rmses(models)\n",
        "\n",
        "# 모든 모델의 회귀 계수 시각화\n",
        "models = [lr_reg, ridge_reg, lasso_reg]\n",
        "visualize_coefficient(models)\n"
      ],
      "execution_count": null,
      "outputs": []
    },
    {
      "cell_type": "code",
      "metadata": {
        "id": "TkLMMjuFNBvW"
      },
      "source": [
        "features.columns"
      ],
      "execution_count": null,
      "outputs": []
    },
    {
      "cell_type": "code",
      "metadata": {
        "id": "8fG64on2NC22"
      },
      "source": [
        "car_rm_dum = car_df_train.drop(onehot_list, axis=1, inplace=False)\n",
        "car_rm_dum"
      ],
      "execution_count": null,
      "outputs": []
    },
    {
      "cell_type": "code",
      "metadata": {
        "id": "bThfeqx9NElC"
      },
      "source": [
        "plt.figure(figsize=(10,20))\n",
        "sns.heatmap(car_rm_dum, fmt='.3f', annot=True, cmap='PuBu')"
      ],
      "execution_count": null,
      "outputs": []
    },
    {
      "cell_type": "code",
      "metadata": {
        "id": "nm0cRVumNFBm"
      },
      "source": [
        ""
      ],
      "execution_count": null,
      "outputs": []
    }
  ]
}