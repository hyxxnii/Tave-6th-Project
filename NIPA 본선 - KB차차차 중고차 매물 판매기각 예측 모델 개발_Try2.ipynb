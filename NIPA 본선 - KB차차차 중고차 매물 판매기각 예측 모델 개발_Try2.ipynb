{
  "nbformat": 4,
  "nbformat_minor": 0,
  "metadata": {
    "colab": {
      "name": "NIPA 본선 - KB차차차 중고차 매물 판매기간 예측 모델 개발_Try2.ipynb",
      "provenance": [],
      "collapsed_sections": [],
      "authorship_tag": "ABX9TyMNCyjdQdN+YYQ009mT0dpt",
      "include_colab_link": true
    },
    "kernelspec": {
      "name": "python3",
      "display_name": "Python 3"
    }
  },
  "cells": [
    {
      "cell_type": "markdown",
      "metadata": {
        "id": "view-in-github",
        "colab_type": "text"
      },
      "source": [
        "<a href=\"https://colab.research.google.com/github/hyxxnii/Tave-6th-Project/blob/master/NIPA%20%EB%B3%B8%EC%84%A0%20-%20KB%EC%B0%A8%EC%B0%A8%EC%B0%A8%20%EC%A4%91%EA%B3%A0%EC%B0%A8%20%EB%A7%A4%EB%AC%BC%20%ED%8C%90%EB%A7%A4%EA%B8%B0%EA%B0%81%20%EC%98%88%EC%B8%A1%20%EB%AA%A8%EB%8D%B8%20%EA%B0%9C%EB%B0%9C_Try2.ipynb\" target=\"_parent\"><img src=\"https://colab.research.google.com/assets/colab-badge.svg\" alt=\"Open In Colab\"/></a>"
      ]
    },
    {
      "cell_type": "markdown",
      "metadata": {
        "id": "QcueJ9juF1tC"
      },
      "source": [
        "## 1. Load Data"
      ]
    },
    {
      "cell_type": "code",
      "metadata": {
        "id": "pXTrejO-GxV3"
      },
      "source": [
        "import warnings\n",
        "warnings.filterwarnings('ignore')\n",
        "import pandas as pd\n",
        "import numpy as np\n",
        "import seaborn as sns\n",
        "import matplotlib.pyplot as plt\n",
        "%matplotlib inline\n",
        "\n",
        "train_path = '../data/.train/.task147/train.csv'\n",
        "test_path = '../data/.train/.task147/test.csv'\n",
        "submission_path = '../data/.sample_submission/.task147/sample_submission.csv'\n",
        "car_df_train = pd.read_csv(train_path)\n",
        "\n",
        "car_df_submission= pd.read_csv(submission_path)\n",
        "\n",
        "car_df = car_df_train.copy()\n",
        "car_df.head()"
      ],
      "execution_count": null,
      "outputs": []
    },
    {
      "cell_type": "code",
      "metadata": {
        "id": "xahjPJ-gF7RP"
      },
      "source": [
        "car_df.info()"
      ],
      "execution_count": null,
      "outputs": []
    },
    {
      "cell_type": "markdown",
      "metadata": {
        "id": "-1ue4S-zF8M7"
      },
      "source": [
        "## 2. EDA"
      ]
    },
    {
      "cell_type": "markdown",
      "metadata": {
        "id": "VBU83XzWGBMz"
      },
      "source": [
        "### Target 분포 확인 및 Log 변환"
      ]
    },
    {
      "cell_type": "code",
      "metadata": {
        "id": "1sYVIN87GCc0"
      },
      "source": [
        "plt.title('Originial Ad Periods Histogram')\n",
        "sns.distplot(car_df['ad_periods'])"
      ],
      "execution_count": null,
      "outputs": []
    },
    {
      "cell_type": "code",
      "metadata": {
        "id": "h2UmrumQGEu3"
      },
      "source": [
        "# 정규분포로 변환하기 위해 로그 변환적용\n",
        "plt.title('Log Transformed Ad Periods Histogram')\n",
        "log_Periods = np.log1p(car_df['ad_periods'])\n",
        "sns.distplot(log_Periods)\n",
        "\n",
        "# 예측시에 다시 expm1()으로 환원"
      ],
      "execution_count": null,
      "outputs": []
    },
    {
      "cell_type": "code",
      "metadata": {
        "id": "g_nB2QYjGE2K"
      },
      "source": [
        "# SalePrice 로그 변환\n",
        "originial_Periods = car_df['ad_periods']\n",
        "car_df['ad_periods'] = np.log1p(car_df['ad_periods'])"
      ],
      "execution_count": null,
      "outputs": []
    },
    {
      "cell_type": "markdown",
      "metadata": {
        "id": "6awOy6_1GE75"
      },
      "source": [
        "### 이상치 제거 "
      ]
    },
    {
      "cell_type": "code",
      "metadata": {
        "id": "1PvbxA8YGFAo"
      },
      "source": [
        "# va피처 분포 확인\n",
        "fig, axs = plt.subplots(figsize=(20,20), ncols = 6, nrows =6 )\n",
        "lm_features = car_df.columns[1:35]\n",
        "\n",
        "for i, feature in enumerate(lm_features):\n",
        "    row = int(i/6)\n",
        "    col = i%6\n",
        "    #scatter plot\n",
        "    sns.scatterplot(x=feature, y = 'ad_periods', data=car_df, ax=axs[row][col])"
      ],
      "execution_count": null,
      "outputs": []
    },
    {
      "cell_type": "code",
      "metadata": {
        "id": "zji_p0XxGFD8"
      },
      "source": [
        "def get_outlier(df=None, column=None, weight=1.5):\n",
        "    # 1/4 분위와 3/4 분위 지점을 np.percentile로 구함\n",
        "    quantile_25 = np.percentile(df[column], 25)\n",
        "    quantile_75 = np.percentile(df[column], 75)\n",
        "    \n",
        "    # IQR을 구하고, IQR에 1.5를 곱해 최댓값과 최솟값 지점 구함\n",
        "    iqr = quantile_75 - quantile_25\n",
        "    iqr_weight = iqr * weight\n",
        "    lowest_val = quantile_25 - iqr_weight\n",
        "    highest_val = quantile_75 + iqr_weight\n",
        "    \n",
        "    # 최댓값보다 크거나, 최솟값보다 작은 값을 이상치 데이터로 설정하고 DataFrame index 반환\n",
        "    outlier_index = df[column][(df[column] < lowest_val) | (df[column] > highest_val)].index\n",
        "    \n",
        "    # 이상치 데이터는 중간값으로 대체\n",
        "    median = np.percentile(df[column], 50)\n",
        "    df[column][outlier_index] = median\n",
        "    \n",
        "    return outlier_index"
      ],
      "execution_count": null,
      "outputs": []
    },
    {
      "cell_type": "code",
      "metadata": {
        "id": "snvpdL5qGFH8"
      },
      "source": [
        "check_columns = ['va06','va07','va12','va22','va23','va25','va33']\n",
        "\n",
        "for col in check_columns:\n",
        "    outlier_index = get_outlier(df=car_df, column=col, weight=1.5)\n",
        "    print('이상치 데이터 인덱스: ', outlier_index) "
      ],
      "execution_count": null,
      "outputs": []
    },
    {
      "cell_type": "code",
      "metadata": {
        "id": "_Ac7Gwn0GFLz"
      },
      "source": [
        ""
      ],
      "execution_count": null,
      "outputs": []
    },
    {
      "cell_type": "markdown",
      "metadata": {
        "id": "nMouEH-ZGOYv"
      },
      "source": [
        "#### 독립변수들 상관관계 분석"
      ]
    },
    {
      "cell_type": "code",
      "metadata": {
        "id": "zWOXIfcvGFOj"
      },
      "source": [
        "onehot_list = car_df.filter(regex='^dum', axis=1).columns\n",
        "onehot_list, len(onehot_list)\n",
        "\n",
        "car_rm_dum = car_df.drop(onehot_list, axis=1, inplace=False) # 원본 데이터\n",
        "car_rm_dum"
      ],
      "execution_count": null,
      "outputs": []
    },
    {
      "cell_type": "code",
      "metadata": {
        "id": "Sw6dW4g-GTAD"
      },
      "source": [
        "plt.figure(figsize=(24,20))\n",
        "corr = car_rm_dum.corr()\n",
        "sns.heatmap(corr, fmt='.2f', annot=True, cmap='PuBu')\n",
        "plt.show()"
      ],
      "execution_count": null,
      "outputs": []
    },
    {
      "cell_type": "markdown",
      "metadata": {
        "id": "_r3w2pgMGVWX"
      },
      "source": [
        "#### category형으로 추정되는 변수 원핫 인코딩"
      ]
    },
    {
      "cell_type": "code",
      "metadata": {
        "id": "e7ftj8GrGVi8"
      },
      "source": [
        "cond1 = car_df['va32'] == 5\n",
        "cond2 = car_df['va24'] == 5\n",
        "\n",
        "outlier_index = car_df[cond1 | cond2].index\n",
        "\n",
        "print('이상치 레코드 index: ', outlier_index.values)\n",
        "print('이상치 삭제 전 car_df shape: ', car_df.shape)\n",
        "\n",
        "# DataFrame의 인덱스를 이용해 이상치 레코드 삭제\n",
        "car_df = car_df.drop(outlier_index, axis=0).reset_index(drop=True)\n",
        "print('이상치 삭제 후 car_df shape: ', car_df.shape)"
      ],
      "execution_count": null,
      "outputs": []
    },
    {
      "cell_type": "code",
      "metadata": {
        "id": "fc8Iv2QmGVs_"
      },
      "source": [
        "# category형으로 추정되는 변수 원핫 인코딩\n",
        "# va05, va24, va32\n",
        "car_df_ohe = pd.get_dummies(car_df, columns=['va05','va24','va32'])\n",
        "car_df_ohe.head()"
      ],
      "execution_count": null,
      "outputs": []
    },
    {
      "cell_type": "markdown",
      "metadata": {
        "id": "zZzzUvTfGVwi"
      },
      "source": [
        "#### 연속형 변수들만 skew(왜도) 1이상 로그 변환"
      ]
    },
    {
      "cell_type": "code",
      "metadata": {
        "id": "EeeqjeRZGVzK"
      },
      "source": [
        "# 피처 데이터 세트의 데이터 분포도 확인\n",
        "from scipy.stats import skew\n",
        "\n",
        "col = ['va01','va02','va03','va04','va06','va12','va13','va22','va23','va25','va27','va28','va33']\n",
        "skew_features = car_df_ohe[col].apply(lambda x:skew(x))\n",
        "\n",
        "# skew(왜곡) 정도가 1 이상인 칼럼만 추출\n",
        "skew_features_top = skew_features[skew_features > 1]\n",
        "print(skew_features_top.sort_values(ascending=False))"
      ],
      "execution_count": null,
      "outputs": []
    },
    {
      "cell_type": "code",
      "metadata": {
        "id": "a0jJB5M9GV2E"
      },
      "source": [
        "# 추출된 왜곡 정도가 높은 피처를 로그 변환\n",
        "car_df_ohe[skew_features_top.index] = np.log1p(car_df_ohe[skew_features_top.index])"
      ],
      "execution_count": null,
      "outputs": []
    },
    {
      "cell_type": "markdown",
      "metadata": {
        "id": "-ePDyR4OGV5a"
      },
      "source": [
        "# Base Model\n",
        "## - Linear Regression, Ridge, Lasso, RandomForest, XGBoost"
      ]
    },
    {
      "cell_type": "code",
      "metadata": {
        "id": "4Barr2b7GkU5"
      },
      "source": [
        "from sklearn.metrics import mean_squared_error\n",
        "\n",
        "def get_rmse(model):\n",
        "    pred = np.expm1(model.predict(X_test))\n",
        "    mse = mean_squared_error(y_test_exp, pred)\n",
        "    rmse = np.sqrt(mse)\n",
        "    print(model.__class__.__name__, 'RMSE: ', np.round(rmse,3))\n",
        "    return rmse\n",
        "\n",
        "def get_rmses(models):\n",
        "    rmses = []\n",
        "    for model in models:\n",
        "        rmse = get_rmse(model)\n",
        "        rmses.append(rmse)\n",
        "    return np.round(rmses, 3)"
      ],
      "execution_count": null,
      "outputs": []
    },
    {
      "cell_type": "code",
      "metadata": {
        "id": "cEBxncHKGlqo"
      },
      "source": [
        "from sklearn.model_selection import train_test_split, GridSearchCV\n",
        "from sklearn.linear_model import LinearRegression, Ridge, Lasso\n",
        "from sklearn.ensemble import RandomForestRegressor\n",
        "from xgboost import XGBRegressor\n",
        "from lightgbm import LGBMRegressor\n",
        "\n",
        "y_target = car_df_ohe['ad_periods'] # 로그 변환됨\n",
        "X_features = car_df_ohe.drop('ad_periods', axis=1, inplace=False) # inplace=False 주의\n",
        "X_train, X_test, y_train, y_test = train_test_split(X_features, y_target, test_size=0.2, random_state=156)\n",
        "\n",
        "# LinearRegression, Ridge, Lasso 학습/예측/평가\n",
        "lr_reg = LinearRegression()\n",
        "ridge_reg = Ridge()\n",
        "lasso_reg = Lasso()\n",
        "rf_reg = RandomForestRegressor(n_estimators=500, max_depth=6, random_state=156)\n",
        "xgb_reg = XGBRegressor(n_estimators=500, max_depth=6, random_state=156)\n",
        "lgbm_reg = LGBMRegressor(n_estimators=1000, learning_rate=0.01, num_leaves=4, random_state=156,\n",
        "                         subsample=0.8, colsample_bytree=0.4)\n",
        "  \n",
        "lr_reg.fit(X_train, y_train)\n",
        "ridge_reg.fit(X_train, y_train)\n",
        "lasso_reg.fit(X_train, y_train)\n",
        "rf_reg.fit(X_train, y_train)\n",
        "\n",
        "lr_pred = lr_reg.predict(X_test)\n",
        "ridge_pred = ridge_reg.predict(X_test)\n",
        "lasso_pred = lasso_reg.predict(X_test)\n",
        "rf_pred = rf_reg.predict(X_test)\n",
        "\n",
        "y_test_exp = np.expm1(y_test)\n",
        "\n",
        "models = [lr_reg, ridge_reg, lasso_reg, rf_reg]\n",
        "get_rmses(models)"
      ],
      "execution_count": null,
      "outputs": []
    },
    {
      "cell_type": "code",
      "metadata": {
        "id": "4fRrRZJgGmWd"
      },
      "source": [
        "lgbm_reg = LGBMRegressor(n_estimators=1000, learning_rate=0.01, num_leaves=4, random_state=156,\n",
        "                         subsample=0.8, colsample_bytree=0.4)\n",
        "\n",
        "lgbm_reg.fit(X_train, y_train, eval_metric='rmse')\n",
        "get_rmse(lgbm_reg)"
      ],
      "execution_count": null,
      "outputs": []
    },
    {
      "cell_type": "code",
      "metadata": {
        "id": "cT6MPKg5GmbS"
      },
      "source": [
        "xgb_reg.fit(X_train, y_train, early_stopping_rounds=50,\n",
        "           eval_metric='rmse', eval_set=[(X_train, y_train), (X_test, y_test)])\n",
        "\n",
        "get_rmse(xgb_reg)"
      ],
      "execution_count": null,
      "outputs": []
    },
    {
      "cell_type": "code",
      "metadata": {
        "id": "Ven8vnB8Gmf1"
      },
      "source": [
        ""
      ],
      "execution_count": null,
      "outputs": []
    },
    {
      "cell_type": "code",
      "metadata": {
        "id": "I5PkPnwBGmjO"
      },
      "source": [
        "# 모델 저장\n",
        "import joblib\n",
        "\n",
        "joblib.dump(xgb_reg, './xgb_model_yh.pkl')"
      ],
      "execution_count": null,
      "outputs": []
    },
    {
      "cell_type": "code",
      "metadata": {
        "id": "eqQv05MhGmnU"
      },
      "source": [
        ""
      ],
      "execution_count": null,
      "outputs": []
    },
    {
      "cell_type": "code",
      "metadata": {
        "id": "Ip6y-VfaGmrJ"
      },
      "source": [
        ""
      ],
      "execution_count": null,
      "outputs": []
    },
    {
      "cell_type": "code",
      "metadata": {
        "id": "qf4RTY8MGmuz"
      },
      "source": [
        ""
      ],
      "execution_count": null,
      "outputs": []
    },
    {
      "cell_type": "code",
      "metadata": {
        "id": "90QTuWWzGmy0"
      },
      "source": [
        ""
      ],
      "execution_count": null,
      "outputs": []
    }
  ]
}