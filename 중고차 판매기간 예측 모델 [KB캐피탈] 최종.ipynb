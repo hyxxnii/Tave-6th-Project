{
  "nbformat": 4,
  "nbformat_minor": 0,
  "metadata": {
    "colab": {
      "name": "중고차 판매기간 예측 모델 [KB캐피탈] 최종.ipynb",
      "provenance": [],
      "authorship_tag": "ABX9TyNfu9+UlBbHPCM/My+q9YPi",
      "include_colab_link": true
    },
    "kernelspec": {
      "name": "python3",
      "display_name": "Python 3"
    }
  },
  "cells": [
    {
      "cell_type": "markdown",
      "metadata": {
        "id": "view-in-github",
        "colab_type": "text"
      },
      "source": [
        "<a href=\"https://colab.research.google.com/github/hyxxnii/Tave-6th-Project/blob/master/%EC%A4%91%EA%B3%A0%EC%B0%A8%20%ED%8C%90%EB%A7%A4%EA%B8%B0%EA%B0%84%20%EC%98%88%EC%B8%A1%20%EB%AA%A8%EB%8D%B8%20%5BKB%EC%BA%90%ED%94%BC%ED%83%88%5D%20%EC%B5%9C%EC%A2%85.ipynb\" target=\"_parent\"><img src=\"https://colab.research.google.com/assets/colab-badge.svg\" alt=\"Open In Colab\"/></a>"
      ]
    },
    {
      "cell_type": "code",
      "metadata": {
        "id": "-qy1vF37ZeOO"
      },
      "source": [
        "import warnings\n",
        "warnings.filterwarnings('ignore')\n",
        "import pandas as pd\n",
        "import numpy as np\n",
        "import seaborn as sns\n",
        "import matplotlib.pyplot as plt\n",
        "%matplotlib inline\n",
        "\n",
        "train_path = '../data/.train/.task147/train.csv'\n",
        "test_path = '../data/.train/.task147/test.csv'\n",
        "submission_path = '../data/.sample_submission/.task147/sample_submission.csv'\n",
        "car_df_train = pd.read_csv(train_path)\n",
        "car_df_submission= pd.read_csv(submission_path)\n",
        "car_df = car_df_train.copy()\n",
        "car_df.head()"
      ],
      "execution_count": null,
      "outputs": []
    },
    {
      "cell_type": "code",
      "metadata": {
        "id": "27j7nAATZk4M"
      },
      "source": [
        "# SalePrice 로그 변환\n",
        "originial_Periods = car_df['ad_periods']\n",
        "car_df['ad_periods'] = np.log1p(car_df['ad_periods'])"
      ],
      "execution_count": null,
      "outputs": []
    },
    {
      "cell_type": "code",
      "metadata": {
        "id": "DhhQ3fmOZqtq"
      },
      "source": [
        "car_va = car_df.filter(regex='^va', axis=1)\n",
        "cols = car_va.columns\n",
        "\n",
        "for col in cols:\n",
        "    fig,ax = plt.subplots(1,1)\n",
        "    sns.distplot(car_df[col])"
      ],
      "execution_count": null,
      "outputs": []
    },
    {
      "cell_type": "code",
      "metadata": {
        "id": "E5Hv3J5AZk74"
      },
      "source": [
        "col = ['va04', 'va06', 'va07', 'va13', 'va25', 'va28','va12','va33']\n",
        "\n",
        "for c in col:\n",
        "    fig,ax = plt.subplots(1,1)\n",
        "    sns.distplot(car_df[c])"
      ],
      "execution_count": null,
      "outputs": []
    },
    {
      "cell_type": "code",
      "metadata": {
        "id": "f2fxrjl3ZlAH"
      },
      "source": [
        "cond1 = car_df['va07'] > 14\n",
        "cond2 = car_df['ad_periods'] > 1\n",
        "outlier_index = car_df[cond1 & cond2].index\n",
        "print('va07 이상치 레코드 index: ', outlier_index.values)\n",
        "# 이상치를 해당 변수의 중간값으로 대체\n",
        "car_df['va07'][outlier_index] = np.median(car_df['va07'])\n",
        "\n",
        "cond1 = car_df['va22'] >14.0\n",
        "cond2 = car_df['ad_periods'] > 3\n",
        "outlier_index = car_df[cond1 & cond2].index\n",
        "print('va22 이상치 레코드 index: ', outlier_index.values)\n",
        "# 이상치를 해당 변수의 중간값으로 대체\n",
        "car_df['va22'][outlier_index] = np.median(car_df['va22'])\n",
        "\n",
        "cond1 = car_df['va23'] > 15\n",
        "cond2 = car_df['ad_periods'] > 3\n",
        "outlier_index = car_df[cond1 & cond2].index\n",
        "print('va23 이상치 레코드 index: ', outlier_index.values)\n",
        "# 이상치를 해당 변수의 중간값으로 대체\n",
        "car_df['va23'][outlier_index] = np.median(car_df['va23'])\n",
        "\n",
        "cond1 = car_df['va25'] > 2.5\n",
        "cond2 = car_df['va25'] < 5.0\n",
        "outlier_index = car_df[cond1 & cond2].index\n",
        "print('va25 이상치 레코드 index: ', outlier_index.values)\n",
        "# 이상치를 해당 변수의 중간값으로 대체\n",
        "car_df['va25'][outlier_index] = np.median(car_df['va25'])\n"
      ],
      "execution_count": null,
      "outputs": []
    },
    {
      "cell_type": "code",
      "metadata": {
        "id": "9ImFgIcQZlDQ"
      },
      "source": [
        "car_df.reset_index(drop=True, inplace=True)\n",
        "car_df['ad_periods']"
      ],
      "execution_count": null,
      "outputs": []
    },
    {
      "cell_type": "code",
      "metadata": {
        "id": "aVvtFFSGZlGc"
      },
      "source": [
        "# 원핫 인코딩 va05, va24, va32\n",
        "cond1 = car_df['va32'] == 5\n",
        "cond2 = car_df['va24'] == 5\n",
        "\n",
        "outlier_index = car_df[cond1 | cond2].index\n",
        "\n",
        "print('이상치 레코드 index: ', outlier_index.values)\n",
        "print('이상치 삭제 전 car_df shape: ', car_df.shape)\n",
        "\n",
        "# DataFrame의 인덱스를 이용해 이상치 레코드 삭제\n",
        "car_df = car_df.drop(outlier_index, axis=0).reset_index(drop=True)\n",
        "print('이상치 삭제 후 car_df shape: ', car_df.shape)\n",
        "\n",
        "# category형으로 추정되는 변수 원핫 인코딩\n",
        "# va05, va24, va32\n",
        "car_df_ohe = pd.get_dummies(car_df, columns=['va05','va24','va32'])\n",
        "car_df_ohe.head()"
      ],
      "execution_count": null,
      "outputs": []
    },
    {
      "cell_type": "code",
      "metadata": {
        "id": "81JiKuLJZlLD"
      },
      "source": [
        "from sklearn.metrics import mean_squared_error\n",
        "\n",
        "def get_rmse(model):\n",
        "    pred = np.expm1(model.predict(X_test))\n",
        "    mse = mean_squared_error(y_test_exp, pred)\n",
        "    rmse = np.sqrt(mse)\n",
        "    print(model.__class__.__name__, 'RMSE: ', np.round(rmse,3))\n",
        "    return rmse\n",
        "\n",
        "def get_rmses(models):\n",
        "    rmses = []\n",
        "    for model in models:\n",
        "        rmse = get_rmse(model)\n",
        "        rmses.append(rmse)\n",
        "    return np.round(rmses, 3)"
      ],
      "execution_count": null,
      "outputs": []
    },
    {
      "cell_type": "code",
      "metadata": {
        "id": "ibB2HhRTZlQJ"
      },
      "source": [
        "from sklearn.model_selection import train_test_split, GridSearchCV\n",
        "from xgboost import XGBRegressor\n",
        "\n",
        "y_target = car_df_ohe['ad_periods'] # 로그 변환됨\n",
        "X_features = car_df_ohe.drop('ad_periods', axis=1, inplace=False) # inplace=False 주의\n",
        "X_train, X_test, y_train, y_test = train_test_split(X_features, y_target, test_size=0.2, random_state=156)\n",
        "\n",
        "y_test_exp = np.expm1(y_test)\n",
        "\n",
        "xgb_reg2 = XGBRegressor(n_estimators=1000, learning_rate=0.05,\n",
        "                      colsample_bytree=0.5, subsample=0.8, random_state=156)\n",
        "\n",
        "xgb_reg2.fit(X_train, y_train, early_stopping_rounds=100,\n",
        "           eval_metric='rmse', eval_set=[(X_train, y_train), (X_test, y_test)])\n",
        "\n",
        "get_rmse(xgb_reg2)"
      ],
      "execution_count": null,
      "outputs": []
    },
    {
      "cell_type": "code",
      "metadata": {
        "id": "_y0Me0LkZlO3"
      },
      "source": [
        ""
      ],
      "execution_count": null,
      "outputs": []
    },
    {
      "cell_type": "code",
      "metadata": {
        "id": "ldVXGxvFZlJa"
      },
      "source": [
        "car_df_test = pd.read_csv(test_path)\n",
        "car_df_test.head()"
      ],
      "execution_count": null,
      "outputs": []
    },
    {
      "cell_type": "code",
      "metadata": {
        "id": "35lt9lJfZk-j"
      },
      "source": [
        "col = ['va04', 'va06', 'va07', 'va13', 'va25', 'va28','va12','va33']\n",
        "car_df_test[col] = np.log1p(car_df_test[col])"
      ],
      "execution_count": null,
      "outputs": []
    },
    {
      "cell_type": "code",
      "metadata": {
        "id": "YAe3ROwXZ3y7"
      },
      "source": [
        "# 원핫 인코딩 va05, va24, va32\n",
        "car_df_test_ohe = pd.get_dummies(car_df_test, columns=['va05','va24','va32'])\n",
        "car_df_test_ohe.head()"
      ],
      "execution_count": null,
      "outputs": []
    },
    {
      "cell_type": "code",
      "metadata": {
        "id": "qhzOUHRyZ31S"
      },
      "source": [
        "# 피처 데이터 생성후 model predict\n",
        "test = car_df_test_ohe[list(car_df_test_ohe.columns)]\n",
        "result = np.expm1(xgb_reg2.predict(test))"
      ],
      "execution_count": null,
      "outputs": []
    },
    {
      "cell_type": "code",
      "metadata": {
        "id": "6-_5-j7iZ34E"
      },
      "source": [
        "# submit 파일 작성\n",
        "submission = pd.read_csv(submission_path)\n",
        "submission['ad_periods'] = [round(x) for x in result]\n",
        "submission.head()"
      ],
      "execution_count": null,
      "outputs": []
    },
    {
      "cell_type": "code",
      "metadata": {
        "id": "pvDKgrrAZ36j"
      },
      "source": [
        "submission.to_csv('./submit_yh4.csv', index=False)"
      ],
      "execution_count": null,
      "outputs": []
    },
    {
      "cell_type": "code",
      "metadata": {
        "id": "bE6HQ5z3Z8BV"
      },
      "source": [
        "from nipa.taskSubmit import nipa_submit\n",
        "\n",
        "team_id=\"1345\"\n",
        "task_no=\"147\"\n",
        "nipa_submit(team_id=team_id,\n",
        "            task_no=task_no,\n",
        "            result='./submit_yh4.csv')"
      ],
      "execution_count": null,
      "outputs": []
    }
  ]
}